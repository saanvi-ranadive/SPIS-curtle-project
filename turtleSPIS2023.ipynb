{
  "nbformat": 4,
  "nbformat_minor": 0,
  "metadata": {
    "colab": {
      "provenance": [],
      "authorship_tag": "ABX9TyOJnWn0ieDByiEL1i8dO/t3",
      "include_colab_link": true
    },
    "kernelspec": {
      "name": "python3",
      "display_name": "Python 3"
    },
    "language_info": {
      "name": "python"
    }
  },
  "cells": [
    {
      "cell_type": "markdown",
      "metadata": {
        "id": "view-in-github",
        "colab_type": "text"
      },
      "source": [
        "<a href=\"https://colab.research.google.com/github/ucsd-cse-spis-2023/final-project-Saanvi-Sharon/blob/main/turtleSPIS2023.ipynb\" target=\"_parent\"><img src=\"https://colab.research.google.com/assets/colab-badge.svg\" alt=\"Open In Colab\"/></a>"
      ]
    },
    {
      "cell_type": "code",
      "execution_count": 1,
      "metadata": {
        "colab": {
          "base_uri": "https://localhost:8080/"
        },
        "id": "62a1f8JVRNz7",
        "outputId": "6f6b8893-eed2-48c6-a49e-167db3aa9ec8"
      },
      "outputs": [
        {
          "output_type": "stream",
          "name": "stdout",
          "text": [
            "Collecting ColabTurtlePlus\n",
            "  Downloading ColabTurtlePlus-2.0.1-py3-none-any.whl (31 kB)\n",
            "Installing collected packages: ColabTurtlePlus\n",
            "Successfully installed ColabTurtlePlus-2.0.1\n"
          ]
        }
      ],
      "source": [
        "!pip install ColabTurtlePlus"
      ]
    },
    {
      "cell_type": "code",
      "source": [
        "from ColabTurtlePlus.Turtle import *"
      ],
      "metadata": {
        "id": "E_-nq_xRRtKC"
      },
      "execution_count": 2,
      "outputs": []
    },
    {
      "cell_type": "code",
      "source": [
        "clearscreen()\n",
        "def drawS(curtle):\n",
        "  curtle.penup()\n",
        "  curtle.forward(4)\n",
        "  curtle.left(90)\n",
        "  curtle.forward(6)\n",
        "  curtle.left(90)\n",
        "  curtle.pendown()\n",
        "  curtle.forward(4)\n",
        "  curtle.left(90)\n",
        "  curtle.forward(3)\n",
        "  curtle.left(90)\n",
        "  curtle.forward(4)\n",
        "  curtle.right(90)\n",
        "  curtle.forward(3)\n",
        "  curtle.right(90)\n",
        "  curtle.forward(4)\n",
        "  curtle.penup()\n",
        "  curtle.left(180)\n",
        "  curtle.forward(5)\n",
        "\n",
        "def drawP(curtle):\n",
        "  curtle.left(90)\n",
        "  curtle.pendown()\n",
        "  curtle.forward(6)\n",
        "  curtle.right(90)\n",
        "  curtle.forward(4)\n",
        "  curtle.right(90)\n",
        "  curtle.forward(3)\n",
        "  curtle.right(90)\n",
        "  curtle.forward(4)\n",
        "  curtle.penup()\n",
        "  curtle.left(90)\n",
        "  curtle.forward(3)\n",
        "  curtle.left(90)\n",
        "  curtle.forward(5)\n",
        "\n",
        "def drawR(curtle):\n",
        "  curtle.left(90)\n",
        "  curtle.pendown()\n",
        "  curtle.forward(6)\n",
        "  curtle.right(90)\n",
        "  curtle.forward(4)\n",
        "  curtle.right(90)\n",
        "  curtle.forward(3)\n",
        "  curtle.right(90)\n",
        "  curtle.forward(4)\n",
        "  curtle.left(143)\n",
        "  curtle.forward(5)\n",
        "  curtle.penup()\n",
        "  curtle.left(37)\n",
        "  curtle.forward(1)\n",
        "\n",
        "def drawI(curtle):\n",
        "  curtle.left(90)\n",
        "  curtle.pendown()\n",
        "  curtle.forward(6)\n",
        "  curtle.penup()\n",
        "  curtle.right(180)\n",
        "  curtle.forward(6)\n",
        "  curtle.left(90)\n",
        "  curtle.forward(1)\n",
        "\n",
        "def drawspace(curtle):\n",
        "  curtle.forward(4)\n",
        "\n",
        "def draw2(curtle):\n",
        "  curtle.left(90)\n",
        "  curtle.forward(6)\n",
        "  curtle.right(90)\n",
        "  curtle.pendown()\n",
        "  curtle.forward(4)\n",
        "  curtle.right(90)\n",
        "  curtle.forward(3)\n",
        "  curtle.right(90)\n",
        "  curtle.forward(4)\n",
        "  curtle.left(90)\n",
        "  curtle.forward(3)\n",
        "  curtle.left(90)\n",
        "  curtle.forward(4)\n",
        "  curtle.penup()\n",
        "  curtle.forward(1)\n",
        "\n",
        "def draw0(curtle):\n",
        "  curtle.pendown()\n",
        "  curtle.forward(4)\n",
        "  curtle.left(90)\n",
        "  curtle.forward(6)\n",
        "  curtle.left(90)\n",
        "  curtle.forward(4)\n",
        "  curtle.left(90)\n",
        "  curtle.forward(6)\n",
        "  curtle.penup()\n",
        "  curtle.left(90)\n",
        "  curtle.forward(5)\n",
        "\n",
        "def draw3(curtle):\n",
        "  curtle.left(90)\n",
        "  curtle.forward(6)\n",
        "  curtle.right(90)\n",
        "  curtle.pendown()\n",
        "  curtle.forward(4)\n",
        "  curtle.right(90)\n",
        "  curtle.forward(3)\n",
        "  curtle.right(90)\n",
        "  curtle.forward(4)\n",
        "  curtle.penup()\n",
        "  curtle.right(180)\n",
        "  curtle.forward(4)\n",
        "  curtle.right(90)\n",
        "  curtle.pendown()\n",
        "  curtle.forward(3)\n",
        "  curtle.right(90)\n",
        "  curtle.forward(4)\n",
        "  curtle.penup()\n",
        "  curtle.right(180)\n",
        "  curtle.forward(5)\n",
        "\n",
        "curtle = Turtle()\n",
        "drawS(curtle)\n",
        "drawP(curtle)\n",
        "drawI(curtle)\n",
        "drawS(curtle)\n",
        "drawspace(curtle)\n",
        "draw2(curtle)\n",
        "draw0(curtle)\n",
        "draw2(curtle)\n",
        "draw3(curtle)"
      ],
      "metadata": {
        "colab": {
          "base_uri": "https://localhost:8080/",
          "height": 621
        },
        "id": "IfkBSBs7RzK1",
        "outputId": "9b2e3da4-778d-4c98-e8aa-6abc2bde028b"
      },
      "execution_count": 28,
      "outputs": [
        {
          "output_type": "display_data",
          "data": {
            "text/plain": [
              "<IPython.core.display.HTML object>"
            ],
            "text/html": [
              "\n",
              "      <svg width=\"800\" height=\"600\">  \n",
              "        <rect width=\"100%\" height=\"100%\" style=\"fill:white;stroke:;stroke-width:1\"/>\n",
              "        \n",
              "        \n",
              "        <line x1=\"404.0\" y1=\"294.0\" x2=\"400.0\" y2=\"294.0\" stroke-linecap=\"round\" style=\"stroke:black;stroke-width:1\" /><line x1=\"400.0\" y1=\"294.0\" x2=\"400.0\" y2=\"297.0\" stroke-linecap=\"round\" style=\"stroke:black;stroke-width:1\" /><line x1=\"400.0\" y1=\"297.0\" x2=\"404.0\" y2=\"297.0\" stroke-linecap=\"round\" style=\"stroke:black;stroke-width:1\" /><line x1=\"404.0\" y1=\"297.0\" x2=\"404.0\" y2=\"300.0\" stroke-linecap=\"round\" style=\"stroke:black;stroke-width:1\" /><line x1=\"404.0\" y1=\"300.0\" x2=\"400.0\" y2=\"300.0\" stroke-linecap=\"round\" style=\"stroke:black;stroke-width:1\" /><line x1=\"405.0\" y1=\"300.0\" x2=\"405.0\" y2=\"294.0\" stroke-linecap=\"round\" style=\"stroke:black;stroke-width:1\" /><line x1=\"405.0\" y1=\"294.0\" x2=\"409.0\" y2=\"294.0\" stroke-linecap=\"round\" style=\"stroke:black;stroke-width:1\" /><line x1=\"409.0\" y1=\"294.0\" x2=\"409.0\" y2=\"297.0\" stroke-linecap=\"round\" style=\"stroke:black;stroke-width:1\" /><line x1=\"409.0\" y1=\"297.0\" x2=\"405.0\" y2=\"297.0\" stroke-linecap=\"round\" style=\"stroke:black;stroke-width:1\" /><line x1=\"410.0\" y1=\"300.0\" x2=\"410.0\" y2=\"294.0\" stroke-linecap=\"round\" style=\"stroke:black;stroke-width:1\" /><line x1=\"415.0\" y1=\"294.0\" x2=\"411.0\" y2=\"294.0\" stroke-linecap=\"round\" style=\"stroke:black;stroke-width:1\" /><line x1=\"411.0\" y1=\"294.0\" x2=\"411.0\" y2=\"297.0\" stroke-linecap=\"round\" style=\"stroke:black;stroke-width:1\" /><line x1=\"411.0\" y1=\"297.0\" x2=\"415.0\" y2=\"297.0\" stroke-linecap=\"round\" style=\"stroke:black;stroke-width:1\" /><line x1=\"415.0\" y1=\"297.0\" x2=\"415.0\" y2=\"300.0\" stroke-linecap=\"round\" style=\"stroke:black;stroke-width:1\" /><line x1=\"415.0\" y1=\"300.0\" x2=\"411.0\" y2=\"300.0\" stroke-linecap=\"round\" style=\"stroke:black;stroke-width:1\" /><line x1=\"420.0\" y1=\"294.0\" x2=\"424.0\" y2=\"294.0\" stroke-linecap=\"round\" style=\"stroke:black;stroke-width:1\" /><line x1=\"424.0\" y1=\"294.0\" x2=\"424.0\" y2=\"297.0\" stroke-linecap=\"round\" style=\"stroke:black;stroke-width:1\" /><line x1=\"424.0\" y1=\"297.0\" x2=\"420.0\" y2=\"297.0\" stroke-linecap=\"round\" style=\"stroke:black;stroke-width:1\" /><line x1=\"420.0\" y1=\"297.0\" x2=\"420.0\" y2=\"300.0\" stroke-linecap=\"round\" style=\"stroke:black;stroke-width:1\" /><line x1=\"420.0\" y1=\"300.0\" x2=\"424.0\" y2=\"300.0\" stroke-linecap=\"round\" style=\"stroke:black;stroke-width:1\" /><line x1=\"425.0\" y1=\"300.0\" x2=\"429.0\" y2=\"300.0\" stroke-linecap=\"round\" style=\"stroke:black;stroke-width:1\" /><line x1=\"429.0\" y1=\"300.0\" x2=\"429.0\" y2=\"294.0\" stroke-linecap=\"round\" style=\"stroke:black;stroke-width:1\" /><line x1=\"429.0\" y1=\"294.0\" x2=\"425.0\" y2=\"294.0\" stroke-linecap=\"round\" style=\"stroke:black;stroke-width:1\" /><line x1=\"425.0\" y1=\"294.0\" x2=\"425.0\" y2=\"300.0\" stroke-linecap=\"round\" style=\"stroke:black;stroke-width:1\" /><line x1=\"430.0\" y1=\"294.0\" x2=\"434.0\" y2=\"294.0\" stroke-linecap=\"round\" style=\"stroke:black;stroke-width:1\" /><line x1=\"434.0\" y1=\"294.0\" x2=\"434.0\" y2=\"297.0\" stroke-linecap=\"round\" style=\"stroke:black;stroke-width:1\" /><line x1=\"434.0\" y1=\"297.0\" x2=\"430.0\" y2=\"297.0\" stroke-linecap=\"round\" style=\"stroke:black;stroke-width:1\" /><line x1=\"430.0\" y1=\"297.0\" x2=\"430.0\" y2=\"300.0\" stroke-linecap=\"round\" style=\"stroke:black;stroke-width:1\" /><line x1=\"430.0\" y1=\"300.0\" x2=\"434.0\" y2=\"300.0\" stroke-linecap=\"round\" style=\"stroke:black;stroke-width:1\" /><line x1=\"435.0\" y1=\"294.0\" x2=\"439.0\" y2=\"294.0\" stroke-linecap=\"round\" style=\"stroke:black;stroke-width:1\" /><line x1=\"439.0\" y1=\"294.0\" x2=\"439.0\" y2=\"297.0\" stroke-linecap=\"round\" style=\"stroke:black;stroke-width:1\" /><line x1=\"439.0\" y1=\"297.0\" x2=\"435.0\" y2=\"297.0\" stroke-linecap=\"round\" style=\"stroke:black;stroke-width:1\" /><line x1=\"439.0\" y1=\"297.0\" x2=\"439.0\" y2=\"300.0\" stroke-linecap=\"round\" style=\"stroke:black;stroke-width:1\" /><line x1=\"439.0\" y1=\"300.0\" x2=\"435.0\" y2=\"300.0\" stroke-linecap=\"round\" style=\"stroke:black;stroke-width:1\" />\n",
              "        \n",
              "        \n",
              "        <g id=\"classic\" visibility=\"visible\" transform=\"rotate(-90,440.0,300.0) translate(440.0, 300.0)\">\n",
              "<polygon points=\"-5,-4.5 0,-2.5 5,-4.5 0,4.5\" transform=\"skewX(0) scale(1,1)\" style=\"stroke:black;fill:black;stroke-width:1\" />\n",
              "</g>\n",
              "      </svg>\n",
              "    "
            ]
          },
          "metadata": {}
        }
      ]
    }
  ]
}