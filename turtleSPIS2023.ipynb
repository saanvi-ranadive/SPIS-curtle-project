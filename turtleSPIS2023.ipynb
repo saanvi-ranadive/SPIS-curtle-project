{
  "nbformat": 4,
  "nbformat_minor": 0,
  "metadata": {
    "colab": {
      "provenance": [],
      "authorship_tag": "ABX9TyPo64yWmjMHwt1liMYNm1LP",
      "include_colab_link": true
    },
    "kernelspec": {
      "name": "python3",
      "display_name": "Python 3"
    },
    "language_info": {
      "name": "python"
    }
  },
  "cells": [
    {
      "cell_type": "markdown",
      "metadata": {
        "id": "view-in-github",
        "colab_type": "text"
      },
      "source": [
        "<a href=\"https://colab.research.google.com/github/ucsd-cse-spis-2023/final-project-Saanvi-Sharon/blob/main/turtleSPIS2023.ipynb\" target=\"_parent\"><img src=\"https://colab.research.google.com/assets/colab-badge.svg\" alt=\"Open In Colab\"/></a>"
      ]
    },
    {
      "cell_type": "code",
      "execution_count": 1,
      "metadata": {
        "colab": {
          "base_uri": "https://localhost:8080/"
        },
        "id": "62a1f8JVRNz7",
        "outputId": "6f6b8893-eed2-48c6-a49e-167db3aa9ec8"
      },
      "outputs": [
        {
          "output_type": "stream",
          "name": "stdout",
          "text": [
            "Collecting ColabTurtlePlus\n",
            "  Downloading ColabTurtlePlus-2.0.1-py3-none-any.whl (31 kB)\n",
            "Installing collected packages: ColabTurtlePlus\n",
            "Successfully installed ColabTurtlePlus-2.0.1\n"
          ]
        }
      ],
      "source": [
        "!pip install ColabTurtlePlus"
      ]
    },
    {
      "cell_type": "code",
      "source": [
        "from ColabTurtlePlus.Turtle import *"
      ],
      "metadata": {
        "id": "E_-nq_xRRtKC"
      },
      "execution_count": 2,
      "outputs": []
    },
    {
      "cell_type": "code",
      "source": [
        "clearscreen()\n",
        "def drawS(curtle):\n",
        "  curtle.penup()\n",
        "  curtle.forward(40)\n",
        "  curtle.left(90)\n",
        "  curtle.forward(60)\n",
        "  curtle.left(90)\n",
        "  curtle.pendown()\n",
        "  curtle.forward(40)\n",
        "  curtle.left(90)\n",
        "  curtle.forward(30)\n",
        "  curtle.left(90)\n",
        "  curtle.forward(40)\n",
        "  curtle.right(90)\n",
        "  curtle.forward(30)\n",
        "  curtle.right(90)\n",
        "  curtle.forward(40)\n",
        "  curtle.penup()\n",
        "  curtle.left(180)\n",
        "  curtle.forward(50)\n",
        "\n",
        "def drawP(curtle):\n",
        "  curtle.left(90)\n",
        "  curtle.pendown()\n",
        "  curtle.forward(60)\n",
        "  curtle.right(90)\n",
        "  curtle.forward(40)\n",
        "  curtle.right(90)\n",
        "  curtle.forward(30)\n",
        "  curtle.right(90)\n",
        "  curtle.forward(40)\n",
        "  curtle.penup()\n",
        "  curtle.left(90)\n",
        "  curtle.forward(30)\n",
        "  curtle.left(90)\n",
        "  curtle.forward(50)\n",
        "\n",
        "def drawR(curtle):\n",
        "  curtle.left(90)\n",
        "  curtle.pendown()\n",
        "  curtle.forward(60)\n",
        "  curtle.right(90)\n",
        "  curtle.forward(40)\n",
        "  curtle.right(90)\n",
        "  curtle.forward(30)\n",
        "  curtle.right(90)\n",
        "  curtle.forward(40)\n",
        "  curtle.left(143)\n",
        "  curtle.forward(50)\n",
        "  curtle.penup()\n",
        "  curtle.left(37)\n",
        "  curtle.forward(10)\n",
        "\n",
        "def drawI(curtle):\n",
        "  curtle.left(90)\n",
        "  curtle.pendown()\n",
        "  curtle.forward(60)\n",
        "  curtle.penup()\n",
        "  curtle.right(180)\n",
        "  curtle.forward(60)\n",
        "  curtle.left(90)\n",
        "  curtle.forward(10)\n",
        "\n",
        "def drawspace(curtle):\n",
        "  curtle.forward(40)\n",
        "\n",
        "def draw2(curtle):\n",
        "  curtle.left(90)\n",
        "  curtle.forward(60)\n",
        "  curtle.right(90)\n",
        "  curtle.pendown()\n",
        "  curtle.forward(40)\n",
        "  curtle.right(90)\n",
        "  curtle.forward(30)\n",
        "  curtle.right(90)\n",
        "  curtle.forward(40)\n",
        "  curtle.left(90)\n",
        "  curtle.forward(30)\n",
        "  curtle.left(90)\n",
        "  curtle.forward(40)\n",
        "  curtle.penup()\n",
        "  curtle.forward(10)\n",
        "\n",
        "def draw0(curtle):\n",
        "  curtle.pendown()\n",
        "  curtle.forward(40)\n",
        "  curtle.left(90)\n",
        "  curtle.forward(60)\n",
        "  curtle.left(90)\n",
        "  curtle.forward(40)\n",
        "  curtle.left(90)\n",
        "  curtle.forward(60)\n",
        "  curtle.penup()\n",
        "  curtle.left(90)\n",
        "  curtle.forward(50)\n",
        "\n",
        "def draw3(curtle):\n",
        "  curtle.left(90)\n",
        "  curtle.forward(60)\n",
        "  curtle.right(90)\n",
        "  curtle.pendown()\n",
        "  curtle.forward(40)\n",
        "  curtle.right(90)\n",
        "  curtle.forward(30)\n",
        "  curtle.right(90)\n",
        "  curtle.forward(40)\n",
        "  curtle.penup()\n",
        "  curtle.right(180)\n",
        "  curtle.forward(40)\n",
        "  curtle.right(90)\n",
        "  curtle.pendown()\n",
        "  curtle.forward(30)\n",
        "  curtle.right(90)\n",
        "  curtle.forward(40)\n",
        "  curtle.penup()\n",
        "  curtle.right(180)\n",
        "  curtle.forward(50)\n",
        "\n",
        "curtle = Turtle()\n",
        "drawS(curtle)\n",
        "drawP(curtle)\n",
        "drawI(curtle)\n",
        "drawS(curtle)\n",
        "drawspace(curtle)\n",
        "draw2(curtle)\n",
        "draw0(curtle)\n",
        "draw2(curtle)\n",
        "draw3(curtle)"
      ],
      "metadata": {
        "colab": {
          "base_uri": "https://localhost:8080/",
          "height": 621
        },
        "id": "IfkBSBs7RzK1",
        "outputId": "f888879c-3134-4250-ae47-498001b55a32"
      },
      "execution_count": 27,
      "outputs": [
        {
          "output_type": "display_data",
          "data": {
            "text/plain": [
              "<IPython.core.display.HTML object>"
            ],
            "text/html": [
              "\n",
              "      <svg width=\"800\" height=\"600\">  \n",
              "        <rect width=\"100%\" height=\"100%\" style=\"fill:white;stroke:;stroke-width:1\"/>\n",
              "        \n",
              "        \n",
              "        <line x1=\"440.0\" y1=\"240.0\" x2=\"400.0\" y2=\"240.0\" stroke-linecap=\"round\" style=\"stroke:black;stroke-width:1\" /><line x1=\"400.0\" y1=\"240.0\" x2=\"400.0\" y2=\"270.0\" stroke-linecap=\"round\" style=\"stroke:black;stroke-width:1\" /><line x1=\"400.0\" y1=\"270.0\" x2=\"440.0\" y2=\"270.0\" stroke-linecap=\"round\" style=\"stroke:black;stroke-width:1\" /><line x1=\"440.0\" y1=\"270.0\" x2=\"440.0\" y2=\"300.0\" stroke-linecap=\"round\" style=\"stroke:black;stroke-width:1\" /><line x1=\"440.0\" y1=\"300.0\" x2=\"400.0\" y2=\"300.0\" stroke-linecap=\"round\" style=\"stroke:black;stroke-width:1\" /><line x1=\"450.0\" y1=\"300.0\" x2=\"450.0\" y2=\"240.0\" stroke-linecap=\"round\" style=\"stroke:black;stroke-width:1\" /><line x1=\"450.0\" y1=\"240.0\" x2=\"490.0\" y2=\"240.0\" stroke-linecap=\"round\" style=\"stroke:black;stroke-width:1\" /><line x1=\"490.0\" y1=\"240.0\" x2=\"490.0\" y2=\"270.0\" stroke-linecap=\"round\" style=\"stroke:black;stroke-width:1\" /><line x1=\"490.0\" y1=\"270.0\" x2=\"450.0\" y2=\"270.0\" stroke-linecap=\"round\" style=\"stroke:black;stroke-width:1\" /><line x1=\"500.0\" y1=\"300.0\" x2=\"500.0\" y2=\"240.0\" stroke-linecap=\"round\" style=\"stroke:black;stroke-width:1\" /><line x1=\"550.0\" y1=\"240.0\" x2=\"510.0\" y2=\"240.0\" stroke-linecap=\"round\" style=\"stroke:black;stroke-width:1\" /><line x1=\"510.0\" y1=\"240.0\" x2=\"510.0\" y2=\"270.0\" stroke-linecap=\"round\" style=\"stroke:black;stroke-width:1\" /><line x1=\"510.0\" y1=\"270.0\" x2=\"550.0\" y2=\"270.0\" stroke-linecap=\"round\" style=\"stroke:black;stroke-width:1\" /><line x1=\"550.0\" y1=\"270.0\" x2=\"550.0\" y2=\"300.0\" stroke-linecap=\"round\" style=\"stroke:black;stroke-width:1\" /><line x1=\"550.0\" y1=\"300.0\" x2=\"510.0\" y2=\"300.0\" stroke-linecap=\"round\" style=\"stroke:black;stroke-width:1\" /><line x1=\"600.0\" y1=\"240.0\" x2=\"640.0\" y2=\"240.0\" stroke-linecap=\"round\" style=\"stroke:black;stroke-width:1\" /><line x1=\"640.0\" y1=\"240.0\" x2=\"640.0\" y2=\"270.0\" stroke-linecap=\"round\" style=\"stroke:black;stroke-width:1\" /><line x1=\"640.0\" y1=\"270.0\" x2=\"600.0\" y2=\"270.0\" stroke-linecap=\"round\" style=\"stroke:black;stroke-width:1\" /><line x1=\"600.0\" y1=\"270.0\" x2=\"600.0\" y2=\"300.0\" stroke-linecap=\"round\" style=\"stroke:black;stroke-width:1\" /><line x1=\"600.0\" y1=\"300.0\" x2=\"640.0\" y2=\"300.0\" stroke-linecap=\"round\" style=\"stroke:black;stroke-width:1\" /><line x1=\"650.0\" y1=\"300.0\" x2=\"690.0\" y2=\"300.0\" stroke-linecap=\"round\" style=\"stroke:black;stroke-width:1\" /><line x1=\"690.0\" y1=\"300.0\" x2=\"690.0\" y2=\"240.0\" stroke-linecap=\"round\" style=\"stroke:black;stroke-width:1\" /><line x1=\"690.0\" y1=\"240.0\" x2=\"650.0\" y2=\"240.0\" stroke-linecap=\"round\" style=\"stroke:black;stroke-width:1\" /><line x1=\"650.0\" y1=\"240.0\" x2=\"650.0\" y2=\"300.0\" stroke-linecap=\"round\" style=\"stroke:black;stroke-width:1\" /><line x1=\"700.0\" y1=\"240.0\" x2=\"740.0\" y2=\"240.0\" stroke-linecap=\"round\" style=\"stroke:black;stroke-width:1\" /><line x1=\"740.0\" y1=\"240.0\" x2=\"740.0\" y2=\"270.0\" stroke-linecap=\"round\" style=\"stroke:black;stroke-width:1\" /><line x1=\"740.0\" y1=\"270.0\" x2=\"700.0\" y2=\"270.0\" stroke-linecap=\"round\" style=\"stroke:black;stroke-width:1\" /><line x1=\"700.0\" y1=\"270.0\" x2=\"700.0\" y2=\"300.0\" stroke-linecap=\"round\" style=\"stroke:black;stroke-width:1\" /><line x1=\"700.0\" y1=\"300.0\" x2=\"740.0\" y2=\"300.0\" stroke-linecap=\"round\" style=\"stroke:black;stroke-width:1\" /><line x1=\"750.0\" y1=\"240.0\" x2=\"790.0\" y2=\"240.0\" stroke-linecap=\"round\" style=\"stroke:black;stroke-width:1\" /><line x1=\"790.0\" y1=\"240.0\" x2=\"790.0\" y2=\"270.0\" stroke-linecap=\"round\" style=\"stroke:black;stroke-width:1\" /><line x1=\"790.0\" y1=\"270.0\" x2=\"750.0\" y2=\"270.0\" stroke-linecap=\"round\" style=\"stroke:black;stroke-width:1\" /><line x1=\"790.0\" y1=\"270.0\" x2=\"790.0\" y2=\"300.0\" stroke-linecap=\"round\" style=\"stroke:black;stroke-width:1\" /><line x1=\"790.0\" y1=\"300.0\" x2=\"750.0\" y2=\"300.0\" stroke-linecap=\"round\" style=\"stroke:black;stroke-width:1\" />\n",
              "        \n",
              "        \n",
              "        <g id=\"classic\" visibility=\"visible\" transform=\"rotate(-90,800.0,300.0) translate(800.0, 300.0)\">\n",
              "<polygon points=\"-5,-4.5 0,-2.5 5,-4.5 0,4.5\" transform=\"skewX(0) scale(1,1)\" style=\"stroke:black;fill:black;stroke-width:1\" />\n",
              "</g>\n",
              "      </svg>\n",
              "    "
            ]
          },
          "metadata": {}
        }
      ]
    }
  ]
}